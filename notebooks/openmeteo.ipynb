{
 "cells": [
  {
   "cell_type": "code",
   "execution_count": 35,
   "id": "5b6056d1-8ced-456d-9c57-fc8672dde125",
   "metadata": {
    "tags": []
   },
   "outputs": [],
   "source": [
    "import openmeteo_requests\n",
    "import requests_cache\n",
    "import pandas as pd\n",
    "from retry_requests import retry"
   ]
  },
  {
   "cell_type": "code",
   "execution_count": 166,
   "id": "87af5386-912e-4c84-b06d-4d7e1f3182ac",
   "metadata": {
    "tags": []
   },
   "outputs": [],
   "source": [
    "from collections import defaultdict\n",
    "import pandas as pd\n",
    "from tqdm.auto import tqdm"
   ]
  },
  {
   "cell_type": "code",
   "execution_count": 189,
   "id": "c4de136d-b952-4328-9ce3-8715c839bb46",
   "metadata": {
    "tags": []
   },
   "outputs": [
    {
     "data": {
      "text/html": [
       "<div>\n",
       "<style scoped>\n",
       "    .dataframe tbody tr th:only-of-type {\n",
       "        vertical-align: middle;\n",
       "    }\n",
       "\n",
       "    .dataframe tbody tr th {\n",
       "        vertical-align: top;\n",
       "    }\n",
       "\n",
       "    .dataframe thead th {\n",
       "        text-align: right;\n",
       "    }\n",
       "</style>\n",
       "<table border=\"1\" class=\"dataframe\">\n",
       "  <thead>\n",
       "    <tr style=\"text-align: right;\">\n",
       "      <th></th>\n",
       "      <th>date</th>\n",
       "      <th>temperature_2m</th>\n",
       "      <th>apparent_temperature</th>\n",
       "      <th>weather_code</th>\n",
       "    </tr>\n",
       "  </thead>\n",
       "  <tbody>\n",
       "    <tr>\n",
       "      <th>0</th>\n",
       "      <td>2023-09-01</td>\n",
       "      <td>16.452000</td>\n",
       "      <td>16.591597</td>\n",
       "      <td>0.0</td>\n",
       "    </tr>\n",
       "    <tr>\n",
       "      <th>1</th>\n",
       "      <td>2023-09-01</td>\n",
       "      <td>16.052000</td>\n",
       "      <td>16.213207</td>\n",
       "      <td>0.0</td>\n",
       "    </tr>\n",
       "    <tr>\n",
       "      <th>2</th>\n",
       "      <td>2023-09-01</td>\n",
       "      <td>15.602000</td>\n",
       "      <td>15.700584</td>\n",
       "      <td>0.0</td>\n",
       "    </tr>\n",
       "    <tr>\n",
       "      <th>3</th>\n",
       "      <td>2023-09-01</td>\n",
       "      <td>14.902000</td>\n",
       "      <td>15.089319</td>\n",
       "      <td>2.0</td>\n",
       "    </tr>\n",
       "    <tr>\n",
       "      <th>4</th>\n",
       "      <td>2023-09-01</td>\n",
       "      <td>15.352000</td>\n",
       "      <td>15.628864</td>\n",
       "      <td>0.0</td>\n",
       "    </tr>\n",
       "    <tr>\n",
       "      <th>...</th>\n",
       "      <td>...</td>\n",
       "      <td>...</td>\n",
       "      <td>...</td>\n",
       "      <td>...</td>\n",
       "    </tr>\n",
       "    <tr>\n",
       "      <th>6547</th>\n",
       "      <td>2024-05-30</td>\n",
       "      <td>22.101999</td>\n",
       "      <td>21.284279</td>\n",
       "      <td>3.0</td>\n",
       "    </tr>\n",
       "    <tr>\n",
       "      <th>6548</th>\n",
       "      <td>2024-05-30</td>\n",
       "      <td>21.252001</td>\n",
       "      <td>20.501266</td>\n",
       "      <td>3.0</td>\n",
       "    </tr>\n",
       "    <tr>\n",
       "      <th>6549</th>\n",
       "      <td>2024-05-30</td>\n",
       "      <td>19.851999</td>\n",
       "      <td>19.441168</td>\n",
       "      <td>2.0</td>\n",
       "    </tr>\n",
       "    <tr>\n",
       "      <th>6550</th>\n",
       "      <td>2024-05-30</td>\n",
       "      <td>19.402000</td>\n",
       "      <td>18.975554</td>\n",
       "      <td>2.0</td>\n",
       "    </tr>\n",
       "    <tr>\n",
       "      <th>6551</th>\n",
       "      <td>2024-05-30</td>\n",
       "      <td>18.601999</td>\n",
       "      <td>18.119047</td>\n",
       "      <td>1.0</td>\n",
       "    </tr>\n",
       "  </tbody>\n",
       "</table>\n",
       "<p>6552 rows × 4 columns</p>\n",
       "</div>"
      ],
      "text/plain": [
       "            date  temperature_2m  apparent_temperature  weather_code\n",
       "0     2023-09-01       16.452000             16.591597           0.0\n",
       "1     2023-09-01       16.052000             16.213207           0.0\n",
       "2     2023-09-01       15.602000             15.700584           0.0\n",
       "3     2023-09-01       14.902000             15.089319           2.0\n",
       "4     2023-09-01       15.352000             15.628864           0.0\n",
       "...          ...             ...                   ...           ...\n",
       "6547  2024-05-30       22.101999             21.284279           3.0\n",
       "6548  2024-05-30       21.252001             20.501266           3.0\n",
       "6549  2024-05-30       19.851999             19.441168           2.0\n",
       "6550  2024-05-30       19.402000             18.975554           2.0\n",
       "6551  2024-05-30       18.601999             18.119047           1.0\n",
       "\n",
       "[6552 rows x 4 columns]"
      ]
     },
     "execution_count": 189,
     "metadata": {},
     "output_type": "execute_result"
    }
   ],
   "source": [
    "cache_session = requests_cache.CachedSession('.cache', expire_after = 3600)\n",
    "retry_session = retry(cache_session, retries = 5, backoff_factor = 0.2)\n",
    "openmeteo = openmeteo_requests.Client(session = retry_session)\n",
    "\n",
    "openmeteo_params = {\n",
    "    \"latitude\": 55.755864,\n",
    "    \"longitude\": 37.617698,\n",
    "    \"start_date\": \"2023-09-01\",\n",
    "    \"end_date\": \"2024-05-30\",\n",
    "    \"hourly\": [\"temperature_2m\", \"apparent_temperature\", \"weather_code\"]\n",
    "}\n",
    "openmeteo_response = openmeteo.weather_api('https://historical-forecast-api.open-meteo.com/v1/forecast', params=openmeteo_params)[0]\n",
    "\n",
    "hourly = openmeteo_response.Hourly()\n",
    "hourly_temperature_2m = hourly.Variables(0).ValuesAsNumpy()\n",
    "hourly_apparent_temperature = hourly.Variables(1).ValuesAsNumpy()\n",
    "hourly_weather_code = hourly.Variables(2).ValuesAsNumpy()\n",
    "\n",
    "hourly_data = {\"date\": pd.date_range(\n",
    "    start = pd.to_datetime(hourly.Time(), unit = \"s\", utc = True),\n",
    "    end = pd.to_datetime(hourly.TimeEnd(), unit = \"s\", utc = True),\n",
    "    freq = pd.Timedelta(seconds = hourly.Interval()),\n",
    "    inclusive = \"left\"\n",
    ")}\n",
    "hourly_data[\"temperature_2m\"] = hourly_temperature_2m\n",
    "hourly_data[\"apparent_temperature\"] = hourly_apparent_temperature\n",
    "hourly_data[\"weather_code\"] = hourly_weather_code\n",
    "\n",
    "hourly_df = pd.DataFrame(data=hourly_data)\n",
    "hourly_df.date = hourly_df.date.dt.date\n",
    "hourly_df"
   ]
  },
  {
   "cell_type": "code",
   "execution_count": 192,
   "id": "9481b4b7-6a68-4109-9987-0c910df74cf1",
   "metadata": {
    "tags": []
   },
   "outputs": [],
   "source": [
    "weather_code_mapping = {\n",
    "    0: 'Ясно',\n",
    "    1: 'В основном ясно',\n",
    "    2: 'Переменная облачность',\n",
    "    3: 'Пасмурно',\n",
    "    71: 'Cнегопад',\n",
    "    73: 'Снегопад',\n",
    "    85: 'Снегопад',\n",
    "    61: 'Дождь',\n",
    "    45: 'Туман',\n",
    "    80: 'Ливень',\n",
    "    77: 'Град'\n",
    "}"
   ]
  },
  {
   "cell_type": "code",
   "execution_count": 151,
   "id": "eb9d5db1-f07d-4452-883b-e06052d66d73",
   "metadata": {
    "tags": []
   },
   "outputs": [
    {
     "data": {
      "text/plain": [
       "datetime.date(2024, 2, 8)"
      ]
     },
     "execution_count": 151,
     "metadata": {},
     "output_type": "execute_result"
    }
   ],
   "source": [
    "date = hourly_df.date.unique()[160]\n",
    "date"
   ]
  },
  {
   "cell_type": "code",
   "execution_count": 153,
   "id": "347940d5-8bf8-4c8c-82ed-1b3faa1d40d7",
   "metadata": {
    "tags": []
   },
   "outputs": [
    {
     "name": "stdout",
     "output_type": "stream",
     "text": [
      "-18.898\n",
      "-0.49800003\n",
      "18.400002\n",
      "-9.327464\n",
      "-8.973\n",
      "-4.85\n",
      "\n",
      "-14.498\n",
      "-10.848\n",
      "3.6500006\n",
      "-13.062584\n",
      "-13.273001\n",
      "-2.4500008\n"
     ]
    }
   ],
   "source": [
    "temp_3_days_around = hourly_df[(hourly_df.date - date).isin(pd.timedelta_range('-3 day', periods=7))].temperature_2m\n",
    "temp_day = hourly_df[hourly_df.date == date].temperature_2m\n",
    "\n",
    "temp_min_3_days = temp_3_days_around.min()\n",
    "print(temp_min_3_days)\n",
    "temp_max_3_days = temp_3_days_around.max()\n",
    "print(temp_max_3_days)\n",
    "temp_var_3_days = temp_max_3_days - temp_min_3_days\n",
    "print(temp_var_3_days)\n",
    "temp_mean_3_days = temp_3_days_around.mean()\n",
    "print(temp_mean_3_days)\n",
    "temp_median_3_days = temp_3_days_around.median()\n",
    "print(temp_median_3_days)\n",
    "temp_shift_3_days = temp_3_days_around.iloc[-1] - temp_3_days_around.iloc[0]\n",
    "print(temp_shift_3_days)\n",
    "\n",
    "print()\n",
    "\n",
    "temp_min_day = temp_day.min()\n",
    "print(temp_min_day)\n",
    "temp_max_day = temp_day.max()\n",
    "print(temp_max_day)\n",
    "temp_var_day = temp_max_day - temp_min_day\n",
    "print(temp_var_day)\n",
    "temp_mean_day = temp_day.mean()\n",
    "print(temp_mean_day)\n",
    "temp_median_day = temp_day.median()\n",
    "print(temp_median_day)\n",
    "temp_shift_day = temp_day.iloc[-1] - temp_day.iloc[0]\n",
    "print(temp_shift_day)\n",
    "\n"
   ]
  },
  {
   "cell_type": "code",
   "execution_count": 164,
   "id": "ba44c42d-8233-4f5d-ab5d-5ba2bf7e276b",
   "metadata": {
    "tags": []
   },
   "outputs": [
    {
     "data": {
      "application/vnd.jupyter.widget-view+json": {
       "model_id": "4cfbd72d365341d996ff4ee1ddfe1e5d",
       "version_major": 2,
       "version_minor": 0
      },
      "text/plain": [
       "  0%|          | 0/273 [00:00<?, ?it/s]"
      ]
     },
     "metadata": {},
     "output_type": "display_data"
    }
   ],
   "source": [
    "date_to_openmeteo_meta = defaultdict(dict)\n",
    "for date in tqdm(hourly_df.date.unique()):\n",
    "    temp_3_days_around = hourly_df[(hourly_df.date - date).isin(pd.timedelta_range('-3 day', periods=7))].temperature_2m\n",
    "    temp_day = hourly_df[hourly_df.date == date].temperature_2m\n",
    "\n",
    "    temp_min_3_days = temp_3_days_around.min()\n",
    "    temp_max_3_days = temp_3_days_around.max()\n",
    "    temp_var_3_days = temp_max_3_days - temp_min_3_days\n",
    "    temp_mean_3_days = temp_3_days_around.mean()\n",
    "    temp_median_3_days = temp_3_days_around.median()\n",
    "    temp_shift_3_days = temp_3_days_around.iloc[-1] - temp_3_days_around.iloc[0]\n",
    "\n",
    "    temp_min_day = temp_day.min()\n",
    "    temp_max_day = temp_day.max()\n",
    "    temp_var_day = temp_max_day - temp_min_day\n",
    "    temp_mean_day = temp_day.mean()\n",
    "    temp_median_day = temp_day.median()\n",
    "    temp_shift_day = temp_day.iloc[-1] - temp_day.iloc[0]\n",
    "    \n",
    "    str_date = str(date)\n",
    "    date_to_openmeteo_meta[str_date]['temp_min_3_days'] = temp_min_3_days\n",
    "    date_to_openmeteo_meta[str_date]['temp_max_3_days'] = temp_max_3_days\n",
    "    date_to_openmeteo_meta[str_date]['temp_var_3_days'] = temp_var_3_days\n",
    "    date_to_openmeteo_meta[str_date]['temp_mean_3_days'] = temp_mean_3_days\n",
    "    date_to_openmeteo_meta[str_date]['temp_median_3_days'] = temp_median_3_days\n",
    "    date_to_openmeteo_meta[str_date]['temp_shift_3_days'] = temp_shift_3_days\n",
    "    \n",
    "    date_to_openmeteo_meta[str_date]['temp_min_day'] = temp_min_day\n",
    "    date_to_openmeteo_meta[str_date]['temp_max_day'] = temp_max_day\n",
    "    date_to_openmeteo_meta[str_date]['temp_var_day'] = temp_var_day\n",
    "    date_to_openmeteo_meta[str_date]['temp_mean_day'] = temp_mean_day\n",
    "    date_to_openmeteo_meta[str_date]['temp_median_day'] = temp_median_day\n",
    "    date_to_openmeteo_meta[str_date]['temp_shift_day'] = temp_shift_day\n",
    "    \n",
    "date_to_openmeteo_meta = dict(date_to_openmeteo_meta)"
   ]
  }
 ],
 "metadata": {
  "kernelspec": {
   "display_name": "Python 3 (ipykernel)",
   "language": "python",
   "name": "python3"
  },
  "language_info": {
   "codemirror_mode": {
    "name": "ipython",
    "version": 3
   },
   "file_extension": ".py",
   "mimetype": "text/x-python",
   "name": "python",
   "nbconvert_exporter": "python",
   "pygments_lexer": "ipython3",
   "version": "3.10.13"
  }
 },
 "nbformat": 4,
 "nbformat_minor": 5
}
