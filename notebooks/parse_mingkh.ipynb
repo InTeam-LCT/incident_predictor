{
 "cells": [
  {
   "cell_type": "code",
   "execution_count": 1,
   "id": "4401385a-54c5-4059-b9c7-15e384d5bec8",
   "metadata": {
    "tags": []
   },
   "outputs": [],
   "source": [
    "import pandas\n",
    "from bs4 import BeautifulSoup\n",
    "from pathlib import Path\n",
    "from tqdm.auto import tqdm\n",
    "import os\n",
    "import json\n",
    "from collections import defaultdict"
   ]
  },
  {
   "cell_type": "code",
   "execution_count": 2,
   "id": "96501933-df85-44e2-8196-6713550c2148",
   "metadata": {},
   "outputs": [],
   "source": [
    "# !~/homebrew/anaconda3/envs/dota/bin/pip install cloudflare-scrape"
   ]
  },
  {
   "cell_type": "code",
   "execution_count": 2,
   "id": "8895b4ba-7c24-4ca7-886a-afa701f7059f",
   "metadata": {
    "tags": []
   },
   "outputs": [],
   "source": [
    "HTML_DIR = Path('../data/html')"
   ]
  },
  {
   "cell_type": "code",
   "execution_count": 3,
   "id": "739bacd6-f169-49b4-9361-71e05c138540",
   "metadata": {
    "tags": []
   },
   "outputs": [
    {
     "data": {
      "text/plain": [
       "{'адрес': 'нагатинская наб., 48/2'}"
      ]
     },
     "execution_count": 3,
     "metadata": {},
     "output_type": "execute_result"
    }
   ],
   "source": [
    "# BASE_INFO_FIELDS = [\n",
    "#     'адрес', 'год постройки', 'количество этажей', 'тип дома', 'жилых помещений',\n",
    "#     'серия, тип постройки', 'тип перекрытий', 'материал несущих стен', 'дом признан аварийным',\n",
    "#     'управляющая компания', 'тип мусоропровода'\n",
    "# ]\n",
    "BASE_INFO_FIELDS = ['адрес']\n",
    "\n",
    "def parse_html(html_path):\n",
    "    house_info = {}\n",
    "    with open(html_path, 'r') as html_fh:\n",
    "        html = html_fh.read()\n",
    "        soup = BeautifulSoup(html, 'html.parser')\n",
    "        \n",
    "        base_info = soup.find_all('dl', class_='dl-horizontal house')[0]\n",
    "        normalize_f = lambda x: x.text.strip().lower()\n",
    "        dts = map(normalize_f, base_info.find_all('dt'))\n",
    "        dds = map(normalize_f, base_info.find_all('dd'))\n",
    "        for dt, dd in zip(filter(len, dts), filter(len, dds)):\n",
    "            if dt in BASE_INFO_FIELDS:\n",
    "                if dt == 'адрес':\n",
    "                    dd = dd[:-27]\n",
    "                house_info[dt] = dd\n",
    "                \n",
    "    return house_info\n",
    "\n",
    "parse_html(HTML_DIR / '203928.html')"
   ]
  },
  {
   "cell_type": "code",
   "execution_count": 4,
   "id": "442d06fa-ef0f-4611-9fd0-d8410909e1ae",
   "metadata": {
    "tags": []
   },
   "outputs": [
    {
     "data": {
      "application/vnd.jupyter.widget-view+json": {
       "model_id": "315f689600a6447aa03d779532bf06f3",
       "version_major": 2,
       "version_minor": 0
      },
      "text/plain": [
       "  0%|          | 0/32727 [00:00<?, ?it/s]"
      ]
     },
     "metadata": {},
     "output_type": "display_data"
    }
   ],
   "source": [
    "BAD_IDS = [\n",
    "    1314990, 1348138, 1077171, 1351061,\n",
    "    1328838, 1360718, 1299658, 1077155,\n",
    "    1077178, 1299659, 1123058\n",
    "]\n",
    "\n",
    "parsed_data = {}\n",
    "for html in tqdm(os.listdir(HTML_DIR)):\n",
    "    html_id = int(html[:-5])\n",
    "    if html_id not in BAD_IDS:\n",
    "        parsed_data[html_id] = parse_html(HTML_DIR / html)"
   ]
  },
  {
   "cell_type": "code",
   "execution_count": 5,
   "id": "64007524-74b9-4a7d-8076-8069f8e821df",
   "metadata": {
    "tags": []
   },
   "outputs": [
    {
     "data": {
      "text/plain": [
       "defaultdict(int, {'адрес': 32716})"
      ]
     },
     "execution_count": 5,
     "metadata": {},
     "output_type": "execute_result"
    }
   ],
   "source": [
    "fields = defaultdict(int)\n",
    "for house_info in parsed_data.values():\n",
    "    for key in house_info.keys():\n",
    "        fields[key] += 1\n",
    "fields"
   ]
  },
  {
   "cell_type": "code",
   "execution_count": 14,
   "id": "a83f314a-a791-4215-b8ee-1ae3ec46d017",
   "metadata": {
    "tags": []
   },
   "outputs": [
    {
     "data": {
      "text/plain": [
       "32716"
      ]
     },
     "execution_count": 14,
     "metadata": {},
     "output_type": "execute_result"
    }
   ],
   "source": [
    "id_to_address = [{'mingkh_id': html_id, 'mingkh_address': parsed_html['адрес']} for html_id, parsed_html in parsed_data.items()]\n",
    "len(id_to_address)"
   ]
  },
  {
   "cell_type": "code",
   "execution_count": 16,
   "id": "4fcad43f-2595-4055-af2e-292badeb8a13",
   "metadata": {
    "tags": []
   },
   "outputs": [],
   "source": [
    "with open('../data/mingkh_addresses.json', 'w') as fh:\n",
    "    json.dump(id_to_address, fh, ensure_ascii=False)"
   ]
  }
 ],
 "metadata": {
  "kernelspec": {
   "display_name": "Python 3 (ipykernel)",
   "language": "python",
   "name": "python3"
  },
  "language_info": {
   "codemirror_mode": {
    "name": "ipython",
    "version": 3
   },
   "file_extension": ".py",
   "mimetype": "text/x-python",
   "name": "python",
   "nbconvert_exporter": "python",
   "pygments_lexer": "ipython3",
   "version": "3.10.13"
  }
 },
 "nbformat": 4,
 "nbformat_minor": 5
}
