{
 "cells": [
  {
   "cell_type": "code",
   "execution_count": 3,
   "id": "31dad3a4-1036-4e12-80d1-948649854ab6",
   "metadata": {},
   "outputs": [],
   "source": [
    "import sys\n",
    "sys.path.append('/Users/artemveshkin/dev/lct_2024_task_10/address')"
   ]
  },
  {
   "cell_type": "code",
   "execution_count": 4,
   "id": "9b0ec4d6-d373-4c63-8a8c-916231a885bf",
   "metadata": {
    "tags": []
   },
   "outputs": [],
   "source": [
    "from address_parser import AddressParser\n",
    "import pandas as pd\n",
    "from pathlib import Path\n",
    "from tqdm.auto import tqdm\n",
    "import os\n",
    "import json\n",
    "from collections import defaultdict"
   ]
  },
  {
   "cell_type": "code",
   "execution_count": 5,
   "id": "bf82beb3-6bfc-4953-852f-33fe23b52c2e",
   "metadata": {
    "tags": []
   },
   "outputs": [],
   "source": [
    "DATA_DIR = Path('../data/')"
   ]
  },
  {
   "cell_type": "code",
   "execution_count": 6,
   "id": "94efe1d3-bace-4791-9e00-c09b7bb93df2",
   "metadata": {
    "tags": []
   },
   "outputs": [],
   "source": [
    "parser = AddressParser()"
   ]
  },
  {
   "cell_type": "code",
   "execution_count": 7,
   "id": "eab3c2a9-7594-4c85-89bd-a9b1e872c6b0",
   "metadata": {
    "tags": []
   },
   "outputs": [],
   "source": [
    "with open(DATA_DIR / 'mingkh_addresses.json', 'r') as fh:\n",
    "    mingkh_addresses = json.load(fh)"
   ]
  },
  {
   "cell_type": "code",
   "execution_count": 8,
   "id": "07c5b781-05b3-46ea-a299-91dc8fb0bbc6",
   "metadata": {
    "tags": []
   },
   "outputs": [
    {
     "data": {
      "text/plain": [
       "{'mingkh_id': 1336199, 'mingkh_address': 'ул. лобачевского, 120 корпус 1'}"
      ]
     },
     "execution_count": 8,
     "metadata": {},
     "output_type": "execute_result"
    }
   ],
   "source": [
    "mingkh_addresses[0]"
   ]
  },
  {
   "cell_type": "code",
   "execution_count": 9,
   "id": "96fa8352-abdd-4cfe-84a9-6c7c3f8bf7a9",
   "metadata": {
    "tags": []
   },
   "outputs": [],
   "source": [
    "def try_fix_mingkh_address(address):\n",
    "    address = address.replace('-й', '')\n",
    "    for street_type in ('пер.', 'проезд', 'б-р', 'просек'):\n",
    "        if street_type in address:\n",
    "            address = street_type + ' ' + address.replace(street_type, '')\n",
    "    return address"
   ]
  },
  {
   "cell_type": "code",
   "execution_count": 15,
   "id": "2db83afd-8b8c-4b69-be08-3d58c81489f8",
   "metadata": {
    "tags": []
   },
   "outputs": [
    {
     "data": {
      "application/vnd.jupyter.widget-view+json": {
       "model_id": "095df24e71b94303891dcf84b15d235a",
       "version_major": 2,
       "version_minor": 0
      },
      "text/plain": [
       "  0%|          | 0/32716 [00:00<?, ?it/s]"
      ]
     },
     "metadata": {},
     "output_type": "display_data"
    }
   ],
   "source": [
    "for mingkh_item in tqdm(mingkh_addresses):\n",
    "    address = mingkh_item['mingkh_address']\n",
    "    parsed_address = parser(address)[0]\n",
    "    unparsed = parsed_address['unparsed_parts']\n",
    "    if len(unparsed) > 0:\n",
    "        fixed_address = try_fix_mingkh_address(address)\n",
    "        parsed_address = parser(fixed_address)[0]\n",
    "        unparsed = parsed_address['unparsed_parts']\n",
    "        if len(unparsed) > 0:\n",
    "            continue\n",
    "    mingkh_item['parsed_mingkh_address'] = parsed_address"
   ]
  },
  {
   "cell_type": "code",
   "execution_count": 44,
   "id": "475d7717-ca15-4188-b40e-1bfe2f564de1",
   "metadata": {
    "tags": []
   },
   "outputs": [
    {
     "data": {
      "text/plain": [
       "{'mingkh_id': 203928,\n",
       " 'mingkh_address': 'нагатинская наб., 48/2',\n",
       " 'parsed_mingkh_address': {'settlement': 'нагатинская',\n",
       "  'street_type': 'наб',\n",
       "  'house': '48/2',\n",
       "  'unparsed_parts': []}}"
      ]
     },
     "execution_count": 44,
     "metadata": {},
     "output_type": "execute_result"
    }
   ],
   "source": [
    "list(filter(lambda x: x['mingkh_id'] == 203928, mingkh_addresses))[0]"
   ]
  },
  {
   "cell_type": "code",
   "execution_count": 17,
   "id": "320d041a-cbe3-4335-b491-8edce053c731",
   "metadata": {
    "tags": []
   },
   "outputs": [],
   "source": [
    "with open('../data/mingkh_addresses_parsed.json', 'w') as fh:\n",
    "    json.dump(mingkh_addresses, fh, ensure_ascii=False)"
   ]
  },
  {
   "cell_type": "code",
   "execution_count": 19,
   "id": "1ed60f39-2c02-4fb0-bbff-bd1fd6bf9131",
   "metadata": {
    "tags": []
   },
   "outputs": [],
   "source": [
    "mos_ru_filtered_df = pd.read_json(DATA_DIR / 'mos_ru_filtered_data.json')"
   ]
  },
  {
   "cell_type": "code",
   "execution_count": 35,
   "id": "8b031ec7-6abd-4261-8caf-136a731f7b1c",
   "metadata": {
    "tags": []
   },
   "outputs": [],
   "source": [
    "def try_fix_mos_ru_address(address):\n",
    "    address = address.replace('-й', '')\n",
    "    for street_type in ('пер.', 'проезд', 'б-р', 'просек', 'проспект', 'переулок', 'улица', 'тупик'):\n",
    "        if street_type in address:\n",
    "            address = street_type + ' ' + address.replace(street_type, '')\n",
    "    return address"
   ]
  },
  {
   "cell_type": "code",
   "execution_count": 39,
   "id": "d9b935a4-deab-4358-b5e2-59bc588200ba",
   "metadata": {
    "tags": []
   },
   "outputs": [
    {
     "data": {
      "text/html": [
       "<div>\n",
       "<style scoped>\n",
       "    .dataframe tbody tr th:only-of-type {\n",
       "        vertical-align: middle;\n",
       "    }\n",
       "\n",
       "    .dataframe tbody tr th {\n",
       "        vertical-align: top;\n",
       "    }\n",
       "\n",
       "    .dataframe thead th {\n",
       "        text-align: right;\n",
       "    }\n",
       "</style>\n",
       "<table border=\"1\" class=\"dataframe\">\n",
       "  <thead>\n",
       "    <tr style=\"text-align: right;\">\n",
       "      <th></th>\n",
       "      <th>global_id</th>\n",
       "      <th>DISTRICT</th>\n",
       "      <th>SIMPLE_ADDRESS</th>\n",
       "      <th>ADM_AREA</th>\n",
       "      <th>geodata_center</th>\n",
       "    </tr>\n",
       "  </thead>\n",
       "  <tbody>\n",
       "    <tr>\n",
       "      <th>22743</th>\n",
       "      <td>646093616</td>\n",
       "      <td>муниципальный округ Нагатинский Затон</td>\n",
       "      <td>Нагатинская набережная, дом 48/2, строение 3</td>\n",
       "      <td>Южный административный округ</td>\n",
       "      <td>[37.680073722, 55.687194998]</td>\n",
       "    </tr>\n",
       "    <tr>\n",
       "      <th>62597</th>\n",
       "      <td>647389699</td>\n",
       "      <td>муниципальный округ Нагатинский Затон</td>\n",
       "      <td>Нагатинская набережная, дом 48/2, строение 2</td>\n",
       "      <td>Южный административный округ</td>\n",
       "      <td>[37.680601813, 55.687220458]</td>\n",
       "    </tr>\n",
       "    <tr>\n",
       "      <th>98770</th>\n",
       "      <td>648954930</td>\n",
       "      <td>муниципальный округ Нагатинский Затон</td>\n",
       "      <td>Нагатинская набережная, дом 48/2</td>\n",
       "      <td>Южный административный округ</td>\n",
       "      <td>[37.679221432, 55.687336217]</td>\n",
       "    </tr>\n",
       "  </tbody>\n",
       "</table>\n",
       "</div>"
      ],
      "text/plain": [
       "       global_id                               DISTRICT  \\\n",
       "22743  646093616  муниципальный округ Нагатинский Затон   \n",
       "62597  647389699  муниципальный округ Нагатинский Затон   \n",
       "98770  648954930  муниципальный округ Нагатинский Затон   \n",
       "\n",
       "                                     SIMPLE_ADDRESS  \\\n",
       "22743  Нагатинская набережная, дом 48/2, строение 3   \n",
       "62597  Нагатинская набережная, дом 48/2, строение 2   \n",
       "98770              Нагатинская набережная, дом 48/2   \n",
       "\n",
       "                           ADM_AREA                geodata_center  \n",
       "22743  Южный административный округ  [37.680073722, 55.687194998]  \n",
       "62597  Южный административный округ  [37.680601813, 55.687220458]  \n",
       "98770  Южный административный округ  [37.679221432, 55.687336217]  "
      ]
     },
     "execution_count": 39,
     "metadata": {},
     "output_type": "execute_result"
    }
   ],
   "source": [
    "mos_ru_filtered_df[mos_ru_filtered_df.SIMPLE_ADDRESS.apply(lambda x: 'Нагатинская набережная, дом 48' in x)]"
   ]
  },
  {
   "cell_type": "code",
   "execution_count": 60,
   "id": "a294cfda-2386-4b84-bf53-77b393131586",
   "metadata": {
    "tags": []
   },
   "outputs": [
    {
     "data": {
      "text/plain": [
       "[{'settlement': 'нагатинская',\n",
       "  'street_type': 'наб',\n",
       "  'house_type': 'дом',\n",
       "  'house': '48/2',\n",
       "  'unparsed_parts': []}]"
      ]
     },
     "execution_count": 60,
     "metadata": {},
     "output_type": "execute_result"
    }
   ],
   "source": [
    "parser('Нагатинская наб., дом 48/2')"
   ]
  },
  {
   "cell_type": "code",
   "execution_count": 55,
   "id": "32a70426-8776-48d2-b895-981e276a83e5",
   "metadata": {
    "tags": []
   },
   "outputs": [
    {
     "data": {
      "text/plain": [
       "[{'settlement': 'нагатинская',\n",
       "  'street_type': 'наб',\n",
       "  'house': '48/2',\n",
       "  'unparsed_parts': []}]"
      ]
     },
     "execution_count": 55,
     "metadata": {},
     "output_type": "execute_result"
    }
   ],
   "source": [
    "parser('нагатинская наб., 48/2')"
   ]
  },
  {
   "cell_type": "code",
   "execution_count": null,
   "id": "7e8733a9-300e-42ab-8406-d4a6238ac0d4",
   "metadata": {
    "tags": []
   },
   "outputs": [],
   "source": [
    "n_errors = 0\n",
    "n_fixed_errors = 0\n",
    "N_TEST_ADDRESSES = mos_ru_filtered_df.shape[0]\n",
    "for row in tqdm(mos_ru_filtered_df.iloc[:N_TEST_ADDRESSES].itertuples(), total=N_TEST_ADDRESSES):\n",
    "    address = row.SIMPLE_ADDRESS\n",
    "    \n",
    "    parsed_address = parser(address)[0]\n",
    "    unparsed = parsed_address['unparsed_parts']\n",
    "    if len(unparsed) > 0:\n",
    "        n_errors += 1\n",
    "        fixed_address = try_fix_mos_ru_address(address)\n",
    "        parsed_address = parser(fixed_address)[0]\n",
    "        unparsed = parsed_address['unparsed_parts']\n",
    "        if len(unparsed) == 0:\n",
    "            n_fixed_errors += 1\n",
    "        else:\n",
    "            print(f'{address} | {unparsed}')\n",
    "            \n",
    "print(f'\\nTotal {n_errors} unparsed (total {float(n_errors) / N_TEST_ADDRESSES * 100:0.2f}%, total {float(n_fixed_errors) / n_errors * 100:0.2f}%)')"
   ]
  },
  {
   "cell_type": "code",
   "execution_count": null,
   "id": "0d8176fd-914c-42b4-b241-cfd8c048a3fe",
   "metadata": {
    "tags": []
   },
   "outputs": [],
   "source": [
    "n_errors = 0\n",
    "n_fixed_errors = 0\n",
    "N_TEST_ADDRESSES = len(addresses)\n",
    "for address in tqdm(addresses[:N_TEST_ADDRESSES]):\n",
    "    parsed_address = parser(address)[0]\n",
    "    unparsed = parsed_address['unparsed_parts']\n",
    "    if len(unparsed) > 0:\n",
    "        n_errors += 1\n",
    "        fixed_address = try_fix_mingkh_address(address)\n",
    "        parsed_address = parser(fixed_address)[0]\n",
    "        unparsed = parsed_address['unparsed_parts']\n",
    "        if len(unparsed) == 0:\n",
    "            n_fixed_errors += 1\n",
    "        else:\n",
    "            print(f'{address} | {unparsed}')\n",
    "        \n",
    "print(f'\\nTotal {n_errors} unparsed (total {float(n_errors) / N_TEST_ADDRESSES * 100:0.2f}%, total {float(n_fixed_errors) / n_errors * 100:0.2f}%)')"
   ]
  }
 ],
 "metadata": {
  "kernelspec": {
   "display_name": "Python 3 (ipykernel)",
   "language": "python",
   "name": "python3"
  },
  "language_info": {
   "codemirror_mode": {
    "name": "ipython",
    "version": 3
   },
   "file_extension": ".py",
   "mimetype": "text/x-python",
   "name": "python",
   "nbconvert_exporter": "python",
   "pygments_lexer": "ipython3",
   "version": "3.10.13"
  }
 },
 "nbformat": 4,
 "nbformat_minor": 5
}
